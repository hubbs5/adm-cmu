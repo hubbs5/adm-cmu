{
 "cells": [
  {
   "cell_type": "markdown",
   "metadata": {},
   "source": [
    "## Background"
   ]
  },
  {
   "cell_type": "markdown",
   "metadata": {},
   "source": [
    "## Problem\n",
    "\n",
    "\n",
    "#### Q-Learning with LCA Decision Dynamics\n",
    "\n",
    "> Select hyperparameters for background excitation ($I_0$), recurrent feedback strength ($k$), cross-inhibition \n",
    "($\\beta$), time step ($\\Delta t$), noise scale ($\\Gamma$), discount factor ($\\gamma$), and learning rate ($\\alpha$).\n",
    "\n",
    "> Initialize $Q$ function with random weights $\\theta$\n",
    "\n",
    "> **For all** episodes $n \\in N$ **do**\n",
    "\n",
    "> > Initialize state $s_{0}$\n",
    "\n",
    "> > **For all** $k \\in K$ **do**\n",
    "\n",
    "> > > **While** $t \\leq T_{max}$ **do**\n",
    "\n",
    "> > > > $I_a = Q \\big(s_k + \\Gamma \\mathcal{N}(\\mu, \\sigma^2), a, \\theta_k \\big) \\quad \\forall a \\in A$\n",
    "\n",
    "> > > > $dr_a = r_{a, t} + \\big(I_0 + I_a + kr_{a, t-1} - \\beta \\sum_{i \\in A \\setminus a} r_{i, t-1} \\big) \\Delta t \\quad \\forall a,i \\in A$\n",
    "\n",
    "> > > **End While**\n",
    "\n",
    "> > > Select action $a_k = max_a (dr_a)$\n",
    "\n",
    "> > > Execute action $a_k$, and observe reward $r_k$ and state $s_{k+1}$\n",
    "\n",
    "> > > **If** $s_{k+1}$ is a terminal state **then**\n",
    "\n",
    "> > > > $y_k = r_k$\n",
    "\n",
    "> > > **Else**\n",
    "\n",
    "> > > > $y_k = r_k + \\gamma max_a Q(s_k, \\theta_k)$\n",
    "\n",
    "> > > **End If**\n",
    "\n",
    "> > > $\\mathcal{L}_\\theta = \\big(y_k - Q(s_k, a_k, \\theta_k) \\big)^2$\n",
    "\n",
    "> > > $\\theta_{k+1} = \\theta_k - \\frac{\\partial}{\\partial \\theta} \\mathcal{L}_{\\theta}$\n",
    "\n",
    "> > **End For**\n",
    "\n",
    "> **End For**\n"
   ]
  },
  {
   "cell_type": "markdown",
   "metadata": {},
   "source": [
    "## Model"
   ]
  },
  {
   "cell_type": "code",
   "execution_count": 1,
   "metadata": {},
   "outputs": [],
   "source": [
    "import numpy as np\n",
    "import matplotlib.pyplot as plt\n",
    "import gym \n",
    "import torch\n",
    "from torch import nn\n",
    "import seaborn as sns\n",
    "import pandas as pd\n",
    "import os\n",
    "import copy\n",
    "import sys\n",
    "from collections import namedtuple, deque, Iterable\n",
    "import time\n",
    "\n",
    "from networks import *\n",
    "from utils.network_utils import torchToNumpy\n",
    "from utils.algo_utils import replayMemory\n",
    "%matplotlib inline"
   ]
  },
  {
   "cell_type": "code",
   "execution_count": 2,
   "metadata": {},
   "outputs": [],
   "source": [
    "env = gym.make('CartPole-v0')"
   ]
  },
  {
   "cell_type": "code",
   "execution_count": 3,
   "metadata": {},
   "outputs": [],
   "source": [
    "qnet = QNetwork(env)"
   ]
  },
  {
   "cell_type": "code",
   "execution_count": 70,
   "metadata": {},
   "outputs": [],
   "source": [
    "class agent(object):\n",
    "    \n",
    "    def __init__(self, network, I_0=2.5, K=5, B=5, noise=0.01, max_t=1, memory_size=10000, burn_in=1000):\n",
    "        \n",
    "        self.network = network\n",
    "        self.env = self.network.env\n",
    "        self.env_name = self.network.env.spec.id\n",
    "        self.n_inputs = self.network.n_inputs\n",
    "        self.n_actions = self.network.actions.shape[0]\n",
    "        self.device = self.network.device\n",
    "        \n",
    "        self.I_0 = I_0 # Background excitation\n",
    "        self.K = K # Cross Inhibition\n",
    "        self.B = B # Cross Inhibition (BETA)\n",
    "        self.noise = noise # Noise scale (GAMMA)\n",
    "        self.max_t = max_t # Max time to decision (seconds)\n",
    "        self.dt = 0.001 # Decision time step (seconds)\n",
    "        self.time_steps = int(self.max_t / self.dt) # Integer number of steps till decision\n",
    "        \n",
    "        self.replayMemory = replayMemory(memory_size=memory_size, burn_in=burn_in)\n",
    "        self.timestamp = time.strftime(\"%Y%m%d_%H%M\")\n",
    "        \n",
    "    def attractorDecision(self, state):\n",
    "        # Firing rates\n",
    "        r = torch.zeros((self.time_steps, self.n_actions))\n",
    "        # Noise vectors for state\n",
    "        E = self.noise * np.sqrt(self.dt) * np.random.randn(self.time_steps, self.n_inputs)\n",
    "        # Set initial firing rate to I_0\n",
    "        r[0] = self.I_0 \n",
    "        mean_qval_est = torch.zeros(self.n_actions)\n",
    "        for t in range(1, self.time_steps):\n",
    "            # Get Q-Values\n",
    "            #qvals = torchToNumpy(self.network.getQValues(state + E[t]), device=self.device)\n",
    "            qvals = self.network.getQValues(state + E[t])\n",
    "            mean_qval_est += (qvals - mean_qval_est) / (t + 1)\n",
    "            # Update firing rates\n",
    "            for n in range(self.n_actions):\n",
    "                r[t, n] = r[t-1, n] + self.dt * (qvals[n] + self.I_0 + self.K*r[t-1, n] - self.B * \\\n",
    "                        sum([r[t-1, m] for m in range(self.n_actions) if n!=m]))\n",
    "                \n",
    "        return r, mean_qval_est\n",
    "        \n",
    "    def getAction(self, state):\n",
    "        r, mean_qval_est = self.attractorDecision(state)\n",
    "        return torch.argmax(r[-1]).item(), mean_qval_est\n",
    "    \n",
    "    def takeStep(self):\n",
    "        action, qval = self.getAction(self.s_0)\n",
    "        s_1, reward, done, _ = self.env.step(action)\n",
    "        self.replayMemory.append(self.s_0, action, reward, s_1.copy(), qval, done)\n",
    "        self.s_0 = s_1.copy()\n",
    "        self.ep_reward += reward\n",
    "        \n",
    "        return done\n",
    "            \n",
    "    def train(self, gamma=1, max_episodes=10000, update_frequency=1,\n",
    "              batch_size=32, print_episodes=False):\n",
    "        self.max_episodes = max_episodes\n",
    "        self.gamma = gamma\n",
    "        self.batch_size = batch_size\n",
    "        self.training_rewards, self.std_rewards = [], []\n",
    "        self.training_loss, self.ep_loss = [], []\n",
    "        self.update_count, ep_count, self.ep_reward, self.step_count = 0, 0, 0, 0\n",
    "        self.s_0 = self.env.reset()\n",
    "        \n",
    "        # Populate replay buffer\n",
    "        while self.replayMemory.burn_in_capacity() < 1:\n",
    "            done = self.takeStep()\n",
    "            if done:\n",
    "                self.s_0 = self.env.reset()\n",
    "        \n",
    "        # Begin training\n",
    "        training = True        \n",
    "        while training:\n",
    "            done = self.takeStep()\n",
    "            if self.step_count % update_frequency == 0:\n",
    "                self.update()\n",
    "                \n",
    "            if done:\n",
    "                self.s_0 = self.env.reset()\n",
    "                self.training_rewards.append(self.ep_reward)\n",
    "                self.training_loss.append(np.mean(self.ep_loss))\n",
    "                self.ep_loss = []\n",
    "                self.ep_reward = 0\n",
    "                ep_count += 1\n",
    "                \n",
    "                if print_episodes:\n",
    "                    print(\"\\rEpisode {:d} Mean Rewards: {:.2f}\\t\".format(\n",
    "                        ep_count, mean_rewards), end=\"\")\n",
    "                    \n",
    "    def calcLoss(self, batch):\n",
    "        states, actions, rewards, next_states, mean_qvals, dones = [i for i in batch]\n",
    "        rewards_t = torch.FloatTensor(rewards).to(device=self.device)\n",
    "        actions_t = torch.LongTensor(np.array(actions)).to(device=self.device).reshape(-1,1)\n",
    "        rewards_t = torch.FloatTensor(rewards).to(device=self.device)\n",
    "        mean_qvals_t = torch.FloatTensor(mean_qvals).to(device=self.device)\n",
    "        dones_t = torch.ByteTensor(dones).to(device=self.device)\n",
    "        \n",
    "        qvals = torch.gather(mean_qvals_t, 1, actions_t).squeeze()\n",
    "        next_qvals_t = torch.max(self.network.getQValues(next_states), dim=-1)[0].detach()\n",
    "        next_qvals_t[dones_t] = 0\n",
    "        expected_qvals = self.gamma * next_qvals_t + rewards_t\n",
    "        loss = nn.MSELoss()(qvals, expected_qvals)\n",
    "        return loss\n",
    "    \n",
    "    def update(self):\n",
    "        self.network.optimizer.zero_grad()\n",
    "        batch = self.replayMemory.sample_batch(batch_size=self.batch_size)\n",
    "        loss = self.calcLoss(batch)\n",
    "        loss.backward()\n",
    "        self.network.optimizer.step()\n",
    "        self.ep_loss.append(torchToNumpy(loss, device=self.device))"
   ]
  },
  {
   "cell_type": "code",
   "execution_count": 71,
   "metadata": {},
   "outputs": [],
   "source": [
    "qAgent = agent(qnet)"
   ]
  },
  {
   "cell_type": "code",
   "execution_count": null,
   "metadata": {},
   "outputs": [],
   "source": [
    "qAgent.train(print_episodes=True)"
   ]
  },
  {
   "cell_type": "code",
   "execution_count": 41,
   "metadata": {},
   "outputs": [],
   "source": [
    "s = env.reset()\n",
    "a, v = qAgent.getAction(s)"
   ]
  },
  {
   "cell_type": "code",
   "execution_count": 43,
   "metadata": {},
   "outputs": [
    {
     "data": {
      "text/plain": [
       "tensor([-0.0775,  0.0306], grad_fn=<ThAddBackward>)"
      ]
     },
     "execution_count": 43,
     "metadata": {},
     "output_type": "execute_result"
    }
   ],
   "source": [
    "v"
   ]
  },
  {
   "cell_type": "code",
   "execution_count": 31,
   "metadata": {},
   "outputs": [],
   "source": [
    "r = torch.zeros((qAgent.time_steps, qAgent.n_actions))\n",
    "r[0] = qAgent.I_0\n",
    "E = np.sqrt(0.001) * np.random.randn(1000, 4)\n",
    "s = env.reset()\n",
    "state_est = np.zeros((1000, 4))\n",
    "for t in range(1, 1000):\n",
    "    state_est[t] = s + E[t]\n",
    "    qvals = qnet.getQValues(s + E[t])\n",
    "    for n in range(2):\n",
    "        r[t, n] = r[t-1, n] + 0.001 * (qvals[n] + qAgent.I_0 + qAgent.K*r[t-1, n] - qAgent.B * \\\n",
    "            sum([r[t-1, m] for m in range(2) if n!=m]))"
   ]
  },
  {
   "cell_type": "code",
   "execution_count": 45,
   "metadata": {},
   "outputs": [],
   "source": [
    "s_0 = env.reset()\n",
    "ep_reward = 0\n",
    "done = False\n",
    "replay_buffer = replayMemory()\n",
    "while done == False:\n",
    "    action, qvals = qAgent.getAction(s_0)\n",
    "    s_1, reward, done, _ = env.step(action.item())\n",
    "    replay_buffer.append(s_0, action, reward, s_1.copy(), qvals, done)\n",
    "    s_0 = s_1.copy()\n",
    "    ep_reward += reward"
   ]
  },
  {
   "cell_type": "code",
   "execution_count": 46,
   "metadata": {},
   "outputs": [],
   "source": [
    "batch = replay_buffer.sample_batch(batch_size=int(ep_reward))\n",
    "states, actions, rewards, next_states, mean_qvals, dones = [i for i in batch]"
   ]
  },
  {
   "cell_type": "code",
   "execution_count": 47,
   "metadata": {},
   "outputs": [
    {
     "data": {
      "text/plain": [
       "tensor([[-0.8235, -3.2627],\n",
       "        [-0.9665, -3.6731],\n",
       "        [-0.3410, -1.6691],\n",
       "        [-0.6896, -2.8579],\n",
       "        [-0.2420, -1.2774],\n",
       "        [-0.4485, -2.0621],\n",
       "        [-0.5647, -2.4580],\n",
       "        [-0.1514, -0.8857],\n",
       "        [-0.0689, -0.4921]], grad_fn=<MmBackward>)"
      ]
     },
     "execution_count": 47,
     "metadata": {},
     "output_type": "execute_result"
    }
   ],
   "source": [
    "qnet.getQValues(next_states)"
   ]
  },
  {
   "cell_type": "code",
   "execution_count": 48,
   "metadata": {},
   "outputs": [
    {
     "data": {
      "text/plain": [
       "(tensor([-0.6889, -2.8550], grad_fn=<ThAddBackward>),\n",
       " tensor([-0.8226, -3.2594], grad_fn=<ThAddBackward>),\n",
       " tensor([-0.2418, -1.2761], grad_fn=<ThAddBackward>),\n",
       " tensor([-0.5641, -2.4555], grad_fn=<ThAddBackward>),\n",
       " tensor([-0.1512, -0.8848], grad_fn=<ThAddBackward>),\n",
       " tensor([-0.3407, -1.6674], grad_fn=<ThAddBackward>),\n",
       " tensor([-0.4481, -2.0601], grad_fn=<ThAddBackward>),\n",
       " tensor([-0.0688, -0.4917], grad_fn=<ThAddBackward>),\n",
       " tensor([ 0.0055, -0.0951], grad_fn=<ThAddBackward>))"
      ]
     },
     "execution_count": 48,
     "metadata": {},
     "output_type": "execute_result"
    }
   ],
   "source": [
    "mean_qvals"
   ]
  },
  {
   "cell_type": "code",
   "execution_count": 55,
   "metadata": {},
   "outputs": [],
   "source": [
    "n = [qAgent.getAction(s) for s in next_states]"
   ]
  },
  {
   "cell_type": "code",
   "execution_count": 57,
   "metadata": {},
   "outputs": [
    {
     "data": {
      "text/plain": [
       "(tensor(0), tensor([-0.8227, -3.2594], grad_fn=<ThAddBackward>))"
      ]
     },
     "execution_count": 57,
     "metadata": {},
     "output_type": "execute_result"
    }
   ],
   "source": []
  },
  {
   "cell_type": "code",
   "execution_count": 24,
   "metadata": {},
   "outputs": [
    {
     "ename": "RuntimeError",
     "evalue": "value cannot be converted to type float without overflow: -855035197632245607710428059366420643840.000000",
     "output_type": "error",
     "traceback": [
      "\u001b[0;31m---------------------------------------------------------------------------\u001b[0m",
      "\u001b[0;31mRuntimeError\u001b[0m                              Traceback (most recent call last)",
      "\u001b[0;32m<ipython-input-24-b18da99362d1>\u001b[0m in \u001b[0;36m<module>\u001b[0;34m()\u001b[0m\n\u001b[1;32m      7\u001b[0m     \u001b[0mqvals\u001b[0m \u001b[0;34m=\u001b[0m \u001b[0mqnet\u001b[0m\u001b[0;34m.\u001b[0m\u001b[0mgetQValues\u001b[0m\u001b[0;34m(\u001b[0m\u001b[0ms\u001b[0m \u001b[0;34m+\u001b[0m \u001b[0mE\u001b[0m\u001b[0;34m[\u001b[0m\u001b[0mt\u001b[0m\u001b[0;34m]\u001b[0m\u001b[0;34m)\u001b[0m\u001b[0;34m\u001b[0m\u001b[0m\n\u001b[1;32m      8\u001b[0m     \u001b[0;32mfor\u001b[0m \u001b[0mn\u001b[0m \u001b[0;32min\u001b[0m \u001b[0mrange\u001b[0m\u001b[0;34m(\u001b[0m\u001b[0;36m2\u001b[0m\u001b[0;34m)\u001b[0m\u001b[0;34m:\u001b[0m\u001b[0;34m\u001b[0m\u001b[0m\n\u001b[0;32m----> 9\u001b[0;31m         \u001b[0mr\u001b[0m\u001b[0;34m[\u001b[0m\u001b[0mt\u001b[0m\u001b[0;34m,\u001b[0m\u001b[0mn\u001b[0m\u001b[0;34m]\u001b[0m \u001b[0;34m=\u001b[0m \u001b[0mqvals\u001b[0m\u001b[0;34m[\u001b[0m\u001b[0mn\u001b[0m\u001b[0;34m]\u001b[0m \u001b[0;34m+\u001b[0m \u001b[0mqAgent\u001b[0m\u001b[0;34m.\u001b[0m\u001b[0mI_0\u001b[0m \u001b[0;34m+\u001b[0m \u001b[0mqAgent\u001b[0m\u001b[0;34m.\u001b[0m\u001b[0mK\u001b[0m\u001b[0;34m*\u001b[0m\u001b[0mr\u001b[0m\u001b[0;34m[\u001b[0m\u001b[0mt\u001b[0m\u001b[0;34m-\u001b[0m\u001b[0;36m1\u001b[0m\u001b[0;34m,\u001b[0m \u001b[0mn\u001b[0m\u001b[0;34m]\u001b[0m \u001b[0;34m-\u001b[0m \u001b[0mqAgent\u001b[0m\u001b[0;34m.\u001b[0m\u001b[0mB\u001b[0m\u001b[0;34m\u001b[0m\u001b[0m\n\u001b[0m",
      "\u001b[0;31mRuntimeError\u001b[0m: value cannot be converted to type float without overflow: -855035197632245607710428059366420643840.000000"
     ]
    }
   ],
   "source": [
    "r = np.zeros((qAgent.time_steps, qAgent.n_actions))\n",
    "E = np.sqrt(0.001) * np.random.randn(1000, 4)\n",
    "s = env.reset()\n",
    "state_est = np.zeros((1000, 4))\n",
    "for t in range(1, 1000):\n",
    "    state_est[t] = s + E[t]\n",
    "    qvals = qnet.getQValues(s + E[t])\n",
    "    for n in range(2):\n",
    "        r[t,n] = qvals[n] + qAgent.I_0 + qAgent.K*r[t-1, n] - qAgent.B"
   ]
  },
  {
   "cell_type": "code",
   "execution_count": 27,
   "metadata": {},
   "outputs": [
    {
     "data": {
      "image/png": "[encoded data removed]",
      "text/plain": [
       "<Figure size 432x288 with 1 Axes>"
      ]
     },
     "metadata": {},
     "output_type": "display_data"
    }
   ],
   "source": [
    "plt.figure()\n",
    "r_n = torchToNumpy(r, device='cpu')\n",
    "for i in range(2):\n",
    "    plt.plot(r_n[:, i], label='Action ' + str(i))\n",
    "    \n",
    "plt.legend()\n",
    "plt.show()"
   ]
  },
  {
   "cell_type": "code",
   "execution_count": 82,
   "metadata": {},
   "outputs": [
    {
     "data": {
      "text/plain": [
       "array([-0.00346968,  0.02383885])"
      ]
     },
     "execution_count": 82,
     "metadata": {},
     "output_type": "execute_result"
    }
   ],
   "source": [
    "q_mean"
   ]
  },
  {
   "cell_type": "code",
   "execution_count": 75,
   "metadata": {},
   "outputs": [
    {
     "data": {
      "image/png": "[encoded data removed]",
      "text/plain": [
       "<Figure size 432x288 with 1 Axes>"
      ]
     },
     "metadata": {},
     "output_type": "display_data"
    }
   ],
   "source": [
    "plt.figure()\n",
    "for i in range(4):\n",
    "    plt.plot(state_est[:, i], label='S ' + str(i))\n",
    "    \n",
    "plt.legend()\n",
    "plt.show()"
   ]
  },
  {
   "cell_type": "code",
   "execution_count": 70,
   "metadata": {},
   "outputs": [
    {
     "data": {
      "text/plain": [
       "array([-52.32237979,  62.28297305])"
      ]
     },
     "execution_count": 70,
     "metadata": {},
     "output_type": "execute_result"
    }
   ],
   "source": [
    "r[-1]"
   ]
  },
  {
   "cell_type": "markdown",
   "metadata": {},
   "source": [
    "## Results"
   ]
  },
  {
   "cell_type": "markdown",
   "metadata": {},
   "source": [
    "## Conclusions"
   ]
  }
 ],
 "metadata": {
  "kernelspec": {
   "display_name": "Python 3",
   "language": "python",
   "name": "python3"
  },
  "language_info": {
   "codemirror_mode": {
    "name": "ipython",
    "version": 3
   },
   "file_extension": ".py",
   "mimetype": "text/x-python",
   "name": "python",
   "nbconvert_exporter": "python",
   "pygments_lexer": "ipython3",
   "version": "3.6.3"
  }
 },
 "nbformat": 4,
 "nbformat_minor": 2
}
